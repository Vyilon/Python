{
 "cells": [
  {
   "cell_type": "code",
   "execution_count": 1,
   "id": "5da0ad0d-8b05-4aaf-9b3b-d352c3af8ef2",
   "metadata": {},
   "outputs": [
    {
     "ename": "SyntaxError",
     "evalue": "invalid decimal literal (2653022069.py, line 2)",
     "output_type": "error",
     "traceback": [
      "\u001b[1;36m  Input \u001b[1;32mIn [1]\u001b[1;36m\u001b[0m\n\u001b[1;33m    х**2 + 4x +6\u001b[0m\n\u001b[1;37m           ^\u001b[0m\n\u001b[1;31mSyntaxError\u001b[0m\u001b[1;31m:\u001b[0m invalid decimal literal\n"
     ]
    }
   ],
   "source": [
    "1.1\n",
    "х^2 + 4x +6\n",
    "(а+b)^2 = x^2 + 2*2x +2*2 + 2\n",
    "(x+2)^2+2\n",
    "(x+2)^2=-2\n",
    "1.2\n",
    "x*2+9\n",
    "(a+b)^2 = x^2 +2*x*0 + 9\n",
    "(x+0)^2=-9\n",
    "\n",
    "2.1\n",
    "y=x^sinx\n",
    "ln(x)=sinx*ln(x)\n",
    "\n",
    "3.1\n",
    "y=3x+x^3\n",
    "3(-3)+(-3)^3 = 3*3+3^3\n",
    "-9-27=9+27 \n",
    "-36=36 нечетная функция\n",
    "\n",
    "3.2\n",
    "y=4^x+4^-x\n",
    "4^2+4^-2=4^-2+4^2\n",
    "четная функция\n",
    "\n",
    "3.3\n",
    "y=(x-1)^3\n",
    "(3-1)^3=(-3-1)^3\n",
    "8=-64 общий вид"
   ]
  },
  {
   "cell_type": "code",
   "execution_count": null,
   "id": "2c9b6ff3-8e97-447c-b368-4333abd06a1a",
   "metadata": {},
   "outputs": [],
   "source": []
  }
 ],
 "metadata": {
  "kernelspec": {
   "display_name": "Python 3 (ipykernel)",
   "language": "python",
   "name": "python3"
  },
  "language_info": {
   "codemirror_mode": {
    "name": "ipython",
    "version": 3
   },
   "file_extension": ".py",
   "mimetype": "text/x-python",
   "name": "python",
   "nbconvert_exporter": "python",
   "pygments_lexer": "ipython3",
   "version": "3.10.4"
  }
 },
 "nbformat": 4,
 "nbformat_minor": 5
}
