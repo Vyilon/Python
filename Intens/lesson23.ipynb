{
 "cells": [
  {
   "cell_type": "markdown",
   "id": "70c4eea6",
   "metadata": {
    "id": "70c4eea6"
   },
   "source": [
    "Задача 1.\n",
    "Предположим, мы хотим найти вероятность того, что на игральной кости при броске выпадет значение больше 4."
   ]
  },
  {
   "cell_type": "code",
   "execution_count": 1,
   "id": "46458864",
   "metadata": {
    "id": "46458864"
   },
   "outputs": [
    {
     "data": {
      "text/plain": [
       "0.3333333333333333"
      ]
     },
     "execution_count": 1,
     "metadata": {},
     "output_type": "execute_result"
    }
   ],
   "source": [
    "1/6+1/6"
   ]
  },
  {
   "cell_type": "markdown",
   "id": "4f48137e",
   "metadata": {
    "id": "4f48137e"
   },
   "source": [
    "Задача 2. Написать функцию для вычисления факториала и рассчитать число сочетаний из 6 по 2."
   ]
  },
  {
   "cell_type": "code",
   "execution_count": 2,
   "id": "00b864a2",
   "metadata": {
    "id": "00b864a2"
   },
   "outputs": [],
   "source": [
    "def fact(x):\n",
    "    factorial = 1\n",
    "    while x > 1:\n",
    "        factorial *= x\n",
    "        x -= 1\n",
    "    return factorial"
   ]
  },
  {
   "cell_type": "code",
   "execution_count": 7,
   "id": "d0c90fd6",
   "metadata": {
    "id": "d0c90fd6"
   },
   "outputs": [
    {
     "data": {
      "text/plain": [
       "6"
      ]
     },
     "execution_count": 7,
     "metadata": {},
     "output_type": "execute_result"
    }
   ],
   "source": [
    "fact(3)"
   ]
  },
  {
   "cell_type": "code",
   "execution_count": 4,
   "id": "818dbe13",
   "metadata": {
    "id": "818dbe13"
   },
   "outputs": [
    {
     "data": {
      "text/plain": [
       "15.0"
      ]
     },
     "execution_count": 4,
     "metadata": {},
     "output_type": "execute_result"
    }
   ],
   "source": [
    "fact(6)/(fact(2)*fact(6-2))"
   ]
  },
  {
   "cell_type": "markdown",
   "id": "710a7b51",
   "metadata": {
    "id": "710a7b51"
   },
   "source": [
    "Задача 3. Из 30 стрелков 12 попадает в цель с вероятностью 0,6, 8 стрелков — с вероятностью 0,5, а 10 — с вероятностью 0,7. Наудачу выбранный стрелок произвёл выстрел, поразив цель.\n",
    "К какой из групп, вероятнее всего, принадлежал этот стрелок?"
   ]
  },
  {
   "cell_type": "code",
   "execution_count": 12,
   "id": "bf853584",
   "metadata": {
    "id": "bf853584"
   },
   "outputs": [
    {
     "name": "stdout",
     "output_type": "stream",
     "text": [
      "0.6\n",
      "0.5\n",
      "0.7\n"
     ]
    }
   ],
   "source": [
    "#e1=12/30\n",
    "#e2=8/30\n",
    "#e3=10/30\n",
    "#(a/e1)=0,6\n",
    "#(a/e2)=0,5\n",
    "#(a/e3)=0,7\n",
    "#p(a|b)= (p(b|a)*p(a))/p(b)\n",
    "#p(b)=p(b|a)*p(a))/p(a)\n",
    "p1=(12/30)*0.6/(12/30)\n",
    "p2=(8/30)*0.5/(8/30)\n",
    "p3=(10/30)*0.7/(10/30)\n",
    "print(p1)\n",
    "print(p2)\n",
    "print(p3)"
   ]
  },
  {
   "cell_type": "markdown",
   "id": "8091fdd1",
   "metadata": {
    "id": "8091fdd1"
   },
   "source": [
    "Задача 4. Сгенерировать выборку реализаций случайной величины (кроме распределения Коши).\n",
    "Любимое распределение можно выбрать на этом [сайте](https://docs.scipy.org/doc/scipy/reference/stats.html).\n",
    "Проверить ЦПТ для различных n."
   ]
  },
  {
   "cell_type": "code",
   "execution_count": 16,
   "id": "8bc6a63d",
   "metadata": {
    "id": "8bc6a63d"
   },
   "outputs": [],
   "source": [
    "from scipy.stats import expon"
   ]
  },
  {
   "cell_type": "code",
   "execution_count": 17,
   "id": "f5350703-7936-4cc9-8762-83b19e48105d",
   "metadata": {},
   "outputs": [],
   "source": [
    "rv = expon()\n",
    "r = expon.rvs(size=1000)"
   ]
  },
  {
   "cell_type": "code",
   "execution_count": 14,
   "id": "79d45f60",
   "metadata": {
    "id": "79d45f60"
   },
   "outputs": [],
   "source": [
    "import seaborn as sns"
   ]
  },
  {
   "cell_type": "code",
   "execution_count": 18,
   "id": "01831c54",
   "metadata": {
    "id": "01831c54"
   },
   "outputs": [
    {
     "name": "stderr",
     "output_type": "stream",
     "text": [
      "C:\\Users\\Константин\\AppData\\Local\\Programs\\Python\\Python310\\lib\\site-packages\\seaborn\\distributions.py:2619: FutureWarning: `distplot` is a deprecated function and will be removed in a future version. Please adapt your code to use either `displot` (a figure-level function with similar flexibility) or `histplot` (an axes-level function for histograms).\n",
      "  warnings.warn(msg, FutureWarning)\n"
     ]
    },
    {
     "data": {
      "text/plain": [
       "<AxesSubplot:ylabel='Density'>"
      ]
     },
     "execution_count": 18,
     "metadata": {},
     "output_type": "execute_result"
    },
    {
     "data": {
      "image/png": "[encoded data removed]",
      "text/plain": [
       "<Figure size 640x480 with 1 Axes>"
      ]
     },
     "metadata": {},
     "output_type": "display_data"
    }
   ],
   "source": [
    "sns.distplot(r)"
   ]
  },
  {
   "cell_type": "code",
   "execution_count": 19,
   "id": "db4dcded",
   "metadata": {
    "id": "db4dcded"
   },
   "outputs": [],
   "source": [
    "from scipy import stats"
   ]
  },
  {
   "cell_type": "code",
   "execution_count": 20,
   "id": "33535a16",
   "metadata": {
    "id": "33535a16"
   },
   "outputs": [],
   "source": [
    "import numpy as np"
   ]
  },
  {
   "cell_type": "code",
   "execution_count": 81,
   "id": "a8ea54c7",
   "metadata": {
    "id": "a8ea54c7"
   },
   "outputs": [],
   "source": [
    "a1=[]\n",
    "for _ in range(100):\n",
    "    a1.append(expon.rvs(size=100).mean())"
   ]
  },
  {
   "cell_type": "code",
   "execution_count": 82,
   "id": "01c8c6ae-5900-4ff2-b78d-70bd4ef1a94a",
   "metadata": {},
   "outputs": [],
   "source": [
    "a5=[]\n",
    "for _ in range(10000):\n",
    "    a5.append(expon.rvs(size=100).mean())"
   ]
  },
  {
   "cell_type": "code",
   "execution_count": 83,
   "id": "b42e5927",
   "metadata": {
    "id": "b42e5927"
   },
   "outputs": [
    {
     "name": "stderr",
     "output_type": "stream",
     "text": [
      "C:\\Users\\Константин\\AppData\\Local\\Programs\\Python\\Python310\\lib\\site-packages\\seaborn\\distributions.py:2619: FutureWarning: `distplot` is a deprecated function and will be removed in a future version. Please adapt your code to use either `displot` (a figure-level function with similar flexibility) or `histplot` (an axes-level function for histograms).\n",
      "  warnings.warn(msg, FutureWarning)\n"
     ]
    },
    {
     "data": {
      "text/plain": [
       "<AxesSubplot:ylabel='Density'>"
      ]
     },
     "execution_count": 83,
     "metadata": {},
     "output_type": "execute_result"
    },
    {
     "data": {
      "image/png": "[encoded data removed]",
      "text/plain": [
       "<Figure size 640x480 with 1 Axes>"
      ]
     },
     "metadata": {},
     "output_type": "display_data"
    }
   ],
   "source": [
    "sns.distplot(a1)"
   ]
  },
  {
   "cell_type": "code",
   "execution_count": 23,
   "id": "61a8bb90",
   "metadata": {
    "id": "61a8bb90"
   },
   "outputs": [
    {
     "data": {
      "text/plain": [
       "AndersonResult(statistic=1.0354982103755805, critical_values=array([0.501, 0.57 , 0.684, 0.798, 0.95 ]), significance_level=array([15. , 10. ,  5. ,  2.5,  1. ]))"
      ]
     },
     "execution_count": 41,
     "metadata": {},
     "output_type": "execute_result"
    }
   ],
   "source": [
    "stats.anderson(a1)"
   ]
  },
  {
   "cell_type": "markdown",
   "id": "966dc077",
   "metadata": {
    "id": "966dc077"
   },
   "source": [
    "Задача 5. Попробовать применить ЦПТ к распределению Коши."
   ]
  },
  {
   "cell_type": "code",
   "execution_count": 26,
   "id": "a2bcd5bf",
   "metadata": {
    "id": "a2bcd5bf"
   },
   "outputs": [],
   "source": [
    "from scipy.stats import cauchy"
   ]
  },
  {
   "cell_type": "code",
   "execution_count": null,
   "id": "ee5c8e76",
   "metadata": {
    "id": "ee5c8e76"
   },
   "outputs": [],
   "source": [
    "a6=[]\n",
    "for _ in range(10000):\n",
    "    a6.append(cauchy.rvs(size=100).mean())"
   ]
  },
  {
   "cell_type": "code",
   "execution_count": 71,
   "id": "56988472",
   "metadata": {
    "id": "56988472"
   },
   "outputs": [
    {
     "name": "stderr",
     "output_type": "stream",
     "text": [
      "C:\\Users\\Константин\\AppData\\Local\\Programs\\Python\\Python310\\lib\\site-packages\\seaborn\\distributions.py:2619: FutureWarning: `distplot` is a deprecated function and will be removed in a future version. Please adapt your code to use either `displot` (a figure-level function with similar flexibility) or `histplot` (an axes-level function for histograms).\n",
      "  warnings.warn(msg, FutureWarning)\n"
     ]
    },
    {
     "data": {
      "text/plain": [
       "<AxesSubplot:ylabel='Density'>"
      ]
     },
     "execution_count": 71,
     "metadata": {},
     "output_type": "execute_result"
    },
    {
     "data": {
      "image/png": "[encoded data removed]",
      "text/plain": [
       "<Figure size 640x480 with 1 Axes>"
      ]
     },
     "metadata": {},
     "output_type": "display_data"
    }
   ],
   "source": [
    "sns.distplot(np.array(a6))"
   ]
  },
  {
   "cell_type": "code",
   "execution_count": 72,
   "id": "eb52f970",
   "metadata": {
    "id": "eb52f970"
   },
   "outputs": [
    {
     "data": {
      "text/plain": [
       "AndersonResult(statistic=3799.566080102566, critical_values=array([0.576, 0.656, 0.787, 0.918, 1.092]), significance_level=array([15. , 10. ,  5. ,  2.5,  1. ]))"
      ]
     },
     "execution_count": 72,
     "metadata": {},
     "output_type": "execute_result"
    }
   ],
   "source": [
    "stats.anderson(np.array(a6))"
   ]
  },
  {
   "cell_type": "markdown",
   "id": "c5d9ce87",
   "metadata": {
    "id": "c5d9ce87"
   },
   "source": [
    "Задача 6. Посчитать основные характеристики выборки."
   ]
  },
  {
   "cell_type": "code",
   "execution_count": 76,
   "id": "d0a1b5cb",
   "metadata": {
    "id": "d0a1b5cb"
   },
   "outputs": [],
   "source": [
    "a5rr=np.array(a5)"
   ]
  },
  {
   "cell_type": "code",
   "execution_count": 77,
   "id": "f510acaf",
   "metadata": {
    "id": "f510acaf"
   },
   "outputs": [
    {
     "ename": "ValueError",
     "evalue": "zero-size array to reduction operation minimum which has no identity",
     "output_type": "error",
     "traceback": [
      "\u001b[1;31m---------------------------------------------------------------------------\u001b[0m",
      "\u001b[1;31mValueError\u001b[0m                                Traceback (most recent call last)",
      "Input \u001b[1;32mIn [77]\u001b[0m, in \u001b[0;36m<cell line: 1>\u001b[1;34m()\u001b[0m\n\u001b[1;32m----> 1\u001b[0m \u001b[43mnp\u001b[49m\u001b[38;5;241;43m.\u001b[39;49m\u001b[43mmin\u001b[49m\u001b[43m(\u001b[49m\u001b[43ma5rr\u001b[49m\u001b[43m)\u001b[49m, np\u001b[38;5;241m.\u001b[39mmax(a5rr), np\u001b[38;5;241m.\u001b[39mmean(a5rr), np\u001b[38;5;241m.\u001b[39mstd(a5rr)\n",
      "File \u001b[1;32m<__array_function__ internals>:180\u001b[0m, in \u001b[0;36mamin\u001b[1;34m(*args, **kwargs)\u001b[0m\n",
      "File \u001b[1;32m~\\AppData\\Local\\Programs\\Python\\Python310\\lib\\site-packages\\numpy\\core\\fromnumeric.py:2918\u001b[0m, in \u001b[0;36mamin\u001b[1;34m(a, axis, out, keepdims, initial, where)\u001b[0m\n\u001b[0;32m   2802\u001b[0m \u001b[38;5;129m@array_function_dispatch\u001b[39m(_amin_dispatcher)\n\u001b[0;32m   2803\u001b[0m \u001b[38;5;28;01mdef\u001b[39;00m \u001b[38;5;21mamin\u001b[39m(a, axis\u001b[38;5;241m=\u001b[39m\u001b[38;5;28;01mNone\u001b[39;00m, out\u001b[38;5;241m=\u001b[39m\u001b[38;5;28;01mNone\u001b[39;00m, keepdims\u001b[38;5;241m=\u001b[39mnp\u001b[38;5;241m.\u001b[39m_NoValue, initial\u001b[38;5;241m=\u001b[39mnp\u001b[38;5;241m.\u001b[39m_NoValue,\n\u001b[0;32m   2804\u001b[0m          where\u001b[38;5;241m=\u001b[39mnp\u001b[38;5;241m.\u001b[39m_NoValue):\n\u001b[0;32m   2805\u001b[0m     \u001b[38;5;124;03m\"\"\"\u001b[39;00m\n\u001b[0;32m   2806\u001b[0m \u001b[38;5;124;03m    Return the minimum of an array or minimum along an axis.\u001b[39;00m\n\u001b[0;32m   2807\u001b[0m \n\u001b[1;32m   (...)\u001b[0m\n\u001b[0;32m   2916\u001b[0m \u001b[38;5;124;03m    6\u001b[39;00m\n\u001b[0;32m   2917\u001b[0m \u001b[38;5;124;03m    \"\"\"\u001b[39;00m\n\u001b[1;32m-> 2918\u001b[0m     \u001b[38;5;28;01mreturn\u001b[39;00m \u001b[43m_wrapreduction\u001b[49m\u001b[43m(\u001b[49m\u001b[43ma\u001b[49m\u001b[43m,\u001b[49m\u001b[43m \u001b[49m\u001b[43mnp\u001b[49m\u001b[38;5;241;43m.\u001b[39;49m\u001b[43mminimum\u001b[49m\u001b[43m,\u001b[49m\u001b[43m \u001b[49m\u001b[38;5;124;43m'\u001b[39;49m\u001b[38;5;124;43mmin\u001b[39;49m\u001b[38;5;124;43m'\u001b[39;49m\u001b[43m,\u001b[49m\u001b[43m \u001b[49m\u001b[43maxis\u001b[49m\u001b[43m,\u001b[49m\u001b[43m \u001b[49m\u001b[38;5;28;43;01mNone\u001b[39;49;00m\u001b[43m,\u001b[49m\u001b[43m \u001b[49m\u001b[43mout\u001b[49m\u001b[43m,\u001b[49m\n\u001b[0;32m   2919\u001b[0m \u001b[43m                          \u001b[49m\u001b[43mkeepdims\u001b[49m\u001b[38;5;241;43m=\u001b[39;49m\u001b[43mkeepdims\u001b[49m\u001b[43m,\u001b[49m\u001b[43m \u001b[49m\u001b[43minitial\u001b[49m\u001b[38;5;241;43m=\u001b[39;49m\u001b[43minitial\u001b[49m\u001b[43m,\u001b[49m\u001b[43m \u001b[49m\u001b[43mwhere\u001b[49m\u001b[38;5;241;43m=\u001b[39;49m\u001b[43mwhere\u001b[49m\u001b[43m)\u001b[49m\n",
      "File \u001b[1;32m~\\AppData\\Local\\Programs\\Python\\Python310\\lib\\site-packages\\numpy\\core\\fromnumeric.py:86\u001b[0m, in \u001b[0;36m_wrapreduction\u001b[1;34m(obj, ufunc, method, axis, dtype, out, **kwargs)\u001b[0m\n\u001b[0;32m     83\u001b[0m         \u001b[38;5;28;01melse\u001b[39;00m:\n\u001b[0;32m     84\u001b[0m             \u001b[38;5;28;01mreturn\u001b[39;00m reduction(axis\u001b[38;5;241m=\u001b[39maxis, out\u001b[38;5;241m=\u001b[39mout, \u001b[38;5;241m*\u001b[39m\u001b[38;5;241m*\u001b[39mpasskwargs)\n\u001b[1;32m---> 86\u001b[0m \u001b[38;5;28;01mreturn\u001b[39;00m ufunc\u001b[38;5;241m.\u001b[39mreduce(obj, axis, dtype, out, \u001b[38;5;241m*\u001b[39m\u001b[38;5;241m*\u001b[39mpasskwargs)\n",
      "\u001b[1;31mValueError\u001b[0m: zero-size array to reduction operation minimum which has no identity"
     ]
    }
   ],
   "source": [
    "np.min(a5rr), np.max(a5rr), np.mean(a5rr), np.std(a5rr)"
   ]
  },
  {
   "cell_type": "markdown",
   "id": "12d2c149",
   "metadata": {
    "id": "12d2c149"
   },
   "source": [
    "Задача 7. Посчитать коэффициент корреляции для двух векторов."
   ]
  },
  {
   "cell_type": "code",
   "execution_count": 78,
   "id": "539da35b",
   "metadata": {
    "id": "539da35b"
   },
   "outputs": [],
   "source": [
    "a6rr=np.array(a6)"
   ]
  },
  {
   "cell_type": "code",
   "execution_count": 79,
   "id": "b2f3738a",
   "metadata": {
    "id": "b2f3738a"
   },
   "outputs": [
    {
     "data": {
      "text/plain": [
       "(0, 10000)"
      ]
     },
     "execution_count": 79,
     "metadata": {},
     "output_type": "execute_result"
    }
   ],
   "source": [
    "len(a5), len(a6)"
   ]
  },
  {
   "cell_type": "code",
   "execution_count": 80,
   "id": "9bd26c09",
   "metadata": {
    "id": "9bd26c09"
   },
   "outputs": [
    {
     "ename": "ValueError",
     "evalue": "all the input array dimensions for the concatenation axis must match exactly, but along dimension 1, the array at index 0 has size 0 and the array at index 1 has size 10000",
     "output_type": "error",
     "traceback": [
      "\u001b[1;31m---------------------------------------------------------------------------\u001b[0m",
      "\u001b[1;31mValueError\u001b[0m                                Traceback (most recent call last)",
      "Input \u001b[1;32mIn [80]\u001b[0m, in \u001b[0;36m<cell line: 1>\u001b[1;34m()\u001b[0m\n\u001b[1;32m----> 1\u001b[0m \u001b[43mnp\u001b[49m\u001b[38;5;241;43m.\u001b[39;49m\u001b[43mcorrcoef\u001b[49m\u001b[43m(\u001b[49m\u001b[43ma5rr\u001b[49m\u001b[43m,\u001b[49m\u001b[43m \u001b[49m\u001b[43ma6rr\u001b[49m\u001b[43m)\u001b[49m\n",
      "File \u001b[1;32m<__array_function__ internals>:180\u001b[0m, in \u001b[0;36mcorrcoef\u001b[1;34m(*args, **kwargs)\u001b[0m\n",
      "File \u001b[1;32m~\\AppData\\Local\\Programs\\Python\\Python310\\lib\\site-packages\\numpy\\lib\\function_base.py:2845\u001b[0m, in \u001b[0;36mcorrcoef\u001b[1;34m(x, y, rowvar, bias, ddof, dtype)\u001b[0m\n\u001b[0;32m   2841\u001b[0m \u001b[38;5;28;01mif\u001b[39;00m bias \u001b[38;5;129;01mis\u001b[39;00m \u001b[38;5;129;01mnot\u001b[39;00m np\u001b[38;5;241m.\u001b[39m_NoValue \u001b[38;5;129;01mor\u001b[39;00m ddof \u001b[38;5;129;01mis\u001b[39;00m \u001b[38;5;129;01mnot\u001b[39;00m np\u001b[38;5;241m.\u001b[39m_NoValue:\n\u001b[0;32m   2842\u001b[0m     \u001b[38;5;66;03m# 2015-03-15, 1.10\u001b[39;00m\n\u001b[0;32m   2843\u001b[0m     warnings\u001b[38;5;241m.\u001b[39mwarn(\u001b[38;5;124m'\u001b[39m\u001b[38;5;124mbias and ddof have no effect and are deprecated\u001b[39m\u001b[38;5;124m'\u001b[39m,\n\u001b[0;32m   2844\u001b[0m                   \u001b[38;5;167;01mDeprecationWarning\u001b[39;00m, stacklevel\u001b[38;5;241m=\u001b[39m\u001b[38;5;241m3\u001b[39m)\n\u001b[1;32m-> 2845\u001b[0m c \u001b[38;5;241m=\u001b[39m \u001b[43mcov\u001b[49m\u001b[43m(\u001b[49m\u001b[43mx\u001b[49m\u001b[43m,\u001b[49m\u001b[43m \u001b[49m\u001b[43my\u001b[49m\u001b[43m,\u001b[49m\u001b[43m \u001b[49m\u001b[43mrowvar\u001b[49m\u001b[43m,\u001b[49m\u001b[43m \u001b[49m\u001b[43mdtype\u001b[49m\u001b[38;5;241;43m=\u001b[39;49m\u001b[43mdtype\u001b[49m\u001b[43m)\u001b[49m\n\u001b[0;32m   2846\u001b[0m \u001b[38;5;28;01mtry\u001b[39;00m:\n\u001b[0;32m   2847\u001b[0m     d \u001b[38;5;241m=\u001b[39m diag(c)\n",
      "File \u001b[1;32m<__array_function__ internals>:180\u001b[0m, in \u001b[0;36mcov\u001b[1;34m(*args, **kwargs)\u001b[0m\n",
      "File \u001b[1;32m~\\AppData\\Local\\Programs\\Python\\Python310\\lib\\site-packages\\numpy\\lib\\function_base.py:2639\u001b[0m, in \u001b[0;36mcov\u001b[1;34m(m, y, rowvar, bias, ddof, fweights, aweights, dtype)\u001b[0m\n\u001b[0;32m   2637\u001b[0m     \u001b[38;5;28;01mif\u001b[39;00m \u001b[38;5;129;01mnot\u001b[39;00m rowvar \u001b[38;5;129;01mand\u001b[39;00m y\u001b[38;5;241m.\u001b[39mshape[\u001b[38;5;241m0\u001b[39m] \u001b[38;5;241m!=\u001b[39m \u001b[38;5;241m1\u001b[39m:\n\u001b[0;32m   2638\u001b[0m         y \u001b[38;5;241m=\u001b[39m y\u001b[38;5;241m.\u001b[39mT\n\u001b[1;32m-> 2639\u001b[0m     X \u001b[38;5;241m=\u001b[39m \u001b[43mnp\u001b[49m\u001b[38;5;241;43m.\u001b[39;49m\u001b[43mconcatenate\u001b[49m\u001b[43m(\u001b[49m\u001b[43m(\u001b[49m\u001b[43mX\u001b[49m\u001b[43m,\u001b[49m\u001b[43m \u001b[49m\u001b[43my\u001b[49m\u001b[43m)\u001b[49m\u001b[43m,\u001b[49m\u001b[43m \u001b[49m\u001b[43maxis\u001b[49m\u001b[38;5;241;43m=\u001b[39;49m\u001b[38;5;241;43m0\u001b[39;49m\u001b[43m)\u001b[49m\n\u001b[0;32m   2641\u001b[0m \u001b[38;5;28;01mif\u001b[39;00m ddof \u001b[38;5;129;01mis\u001b[39;00m \u001b[38;5;28;01mNone\u001b[39;00m:\n\u001b[0;32m   2642\u001b[0m     \u001b[38;5;28;01mif\u001b[39;00m bias \u001b[38;5;241m==\u001b[39m \u001b[38;5;241m0\u001b[39m:\n",
      "File \u001b[1;32m<__array_function__ internals>:180\u001b[0m, in \u001b[0;36mconcatenate\u001b[1;34m(*args, **kwargs)\u001b[0m\n",
      "\u001b[1;31mValueError\u001b[0m: all the input array dimensions for the concatenation axis must match exactly, but along dimension 1, the array at index 0 has size 0 and the array at index 1 has size 10000"
     ]
    }
   ],
   "source": [
    "np.corrcoef(a5rr, a6rr)"
   ]
  },
  {
   "cell_type": "code",
   "execution_count": null,
   "id": "99b9bf3c",
   "metadata": {
    "id": "99b9bf3c"
   },
   "outputs": [],
   "source": []
  }
 ],
 "metadata": {
  "colab": {
   "provenance": []
  },
  "kernelspec": {
   "display_name": "Python 3 (ipykernel)",
   "language": "python",
   "name": "python3"
  },
  "language_info": {
   "codemirror_mode": {
    "name": "ipython",
    "version": 3
   },
   "file_extension": ".py",
   "mimetype": "text/x-python",
   "name": "python",
   "nbconvert_exporter": "python",
   "pygments_lexer": "ipython3",
   "version": "3.10.4"
  }
 },
 "nbformat": 4,
 "nbformat_minor": 5
}
